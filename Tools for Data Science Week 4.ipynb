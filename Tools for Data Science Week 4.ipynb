{
 "cells": [
  {
   "cell_type": "markdown",
   "metadata": {},
   "source": [
    "# My Jupyter Notebook not on IBM Watson Studio"
   ]
  },
  {
   "cell_type": "markdown",
   "metadata": {},
   "source": [
    "**Kyle Paterson**  \n",
    "Laser Technician"
   ]
  },
  {
   "cell_type": "markdown",
   "metadata": {},
   "source": [
    "*I am interested in data science because it will allow me to make better sense of ongoing complex crises, such as climate change, which have many parameters and require the analysis of large amounts of data to get a real time picture of a fast-changing situation.*"
   ]
  },
  {
   "cell_type": "markdown",
   "metadata": {},
   "source": [
    "### Cell 5 gets lengths of two sides of right-angled triangle from user and calculates length of third side"
   ]
  },
  {
   "cell_type": "code",
   "execution_count": 5,
   "metadata": {},
   "outputs": [
    {
     "name": "stdin",
     "output_type": "stream",
     "text": [
      " 3\n",
      " 4\n"
     ]
    },
    {
     "name": "stdout",
     "output_type": "stream",
     "text": [
      "Triangle side lengths: 3, 4\n",
      "Length of remaining side:  5.0\n"
     ]
    }
   ],
   "source": [
    "from math import sqrt\n",
    "a = int(input())\n",
    "b = int(input())\n",
    "hypotenuse = sqrt(a ** 2 + b ** 2)\n",
    "print(f\"Triangle side lengths: {a}, {b}\")\n",
    "print(\"Length of remaining side: \", hypotenuse)"
   ]
  },
  {
   "cell_type": "markdown",
   "metadata": {},
   "source": [
    "Steps to share this notebook:  \n",
    "- Upload to Github repository  \n",
    "- Make repository public  \n",
    "- Share link somehow  \n",
    "___   \n",
    "![alt text](https://www.zicasso.com/sites/default/files/styles/original_scaled_down/public/cleanup/sampletrip/Indonesia_Bali_Water_Temple.jpg \"Hindu Temple in Bali\")"
   ]
  },
  {
   "cell_type": "code",
   "execution_count": null,
   "metadata": {},
   "outputs": [],
   "source": []
  }
 ],
 "metadata": {
  "kernelspec": {
   "display_name": "Python 3",
   "language": "python",
   "name": "python3"
  },
  "language_info": {
   "codemirror_mode": {
    "name": "ipython",
    "version": 3
   },
   "file_extension": ".py",
   "mimetype": "text/x-python",
   "name": "python",
   "nbconvert_exporter": "python",
   "pygments_lexer": "ipython3",
   "version": "3.8.5"
  }
 },
 "nbformat": 4,
 "nbformat_minor": 4
}
